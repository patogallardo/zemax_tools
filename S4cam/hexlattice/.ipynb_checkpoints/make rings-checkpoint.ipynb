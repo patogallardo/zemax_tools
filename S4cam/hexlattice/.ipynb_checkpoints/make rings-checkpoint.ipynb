{
 "cells": [
  {
   "cell_type": "code",
   "execution_count": 121,
   "metadata": {},
   "outputs": [],
   "source": [
    "from hexlattice import *\n",
    "import matplotlib.pyplot as plt\n",
    "import pandas as pd\n",
    "import numpy as np"
   ]
  },
  {
   "cell_type": "code",
   "execution_count": 122,
   "metadata": {},
   "outputs": [],
   "source": [
    "dfs = []\n",
    "order = 0; scale = 1\n",
    "df = gen_hex_layout(order, scale=scale)\n",
    "df['ring'] = 0\n",
    "df['theta'] = 0\n",
    "dfs.append(df)"
   ]
  },
  {
   "cell_type": "code",
   "execution_count": 123,
   "metadata": {},
   "outputs": [],
   "source": [
    "order = 1; scale = 1 \n",
    "df = gen_hex_layout(order, scale=scale)\n",
    "df_previous = gen_hex_layout(order - 1, scale)"
   ]
  },
  {
   "cell_type": "code",
   "execution_count": 124,
   "metadata": {},
   "outputs": [],
   "source": [
    "def isin(df1, df2):\n",
    "    '''checks if df1 is in df2'''\n",
    "    hx1 = df1.hex_x.values\n",
    "    hx2 = df2.hex_x.values\n",
    "    isx = np.isin(hx1, hx2)\n",
    "    \n",
    "    hy1 = df1.hex_y.values\n",
    "    hy2 = df2.hex_y.values\n",
    "    isy = np.isin(hy1, hy2)\n",
    "    \n",
    "    return np.logical_and(isx, isy)"
   ]
  },
  {
   "cell_type": "code",
   "execution_count": 125,
   "metadata": {},
   "outputs": [],
   "source": [
    "sel = isin(df, df_previous)\n",
    "df.drop(df.loc[sel].index, inplace=True)"
   ]
  },
  {
   "cell_type": "code",
   "execution_count": 127,
   "metadata": {},
   "outputs": [],
   "source": [
    "dfs.append(df)"
   ]
  },
  {
   "cell_type": "code",
   "execution_count": 128,
   "metadata": {},
   "outputs": [],
   "source": [
    "order = 2; scale = 1 \n",
    "df = gen_hex_layout(order, scale=scale)\n",
    "df_previous = gen_hex_layout(order - 1, scale)"
   ]
  },
  {
   "cell_type": "code",
   "execution_count": null,
   "metadata": {},
   "outputs": [],
   "source": []
  }
 ],
 "metadata": {
  "kernelspec": {
   "display_name": "Python 3",
   "language": "python",
   "name": "python3"
  },
  "language_info": {
   "codemirror_mode": {
    "name": "ipython",
    "version": 3
   },
   "file_extension": ".py",
   "mimetype": "text/x-python",
   "name": "python",
   "nbconvert_exporter": "python",
   "pygments_lexer": "ipython3",
   "version": "3.7.8"
  }
 },
 "nbformat": 4,
 "nbformat_minor": 4
}
